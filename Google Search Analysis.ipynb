{
 "cells": [
  {
   "cell_type": "code",
   "execution_count": 1,
   "id": "d2555fb7-3524-483c-9785-4063acf98770",
   "metadata": {},
   "outputs": [
    {
     "name": "stdout",
     "output_type": "stream",
     "text": [
      "Requirement already satisfied: pytrends in c:\\users\\sushmita\\anaconda3\\lib\\site-packages (4.9.2)\n",
      "Requirement already satisfied: matplotlib in c:\\users\\sushmita\\anaconda3\\lib\\site-packages (3.9.2)\n",
      "Requirement already satisfied: pandas in c:\\users\\sushmita\\anaconda3\\lib\\site-packages (2.2.2)\n",
      "Requirement already satisfied: seaborn in c:\\users\\sushmita\\anaconda3\\lib\\site-packages (0.13.2)\n",
      "Requirement already satisfied: plotly in c:\\users\\sushmita\\anaconda3\\lib\\site-packages (5.24.1)\n",
      "Requirement already satisfied: requests>=2.0 in c:\\users\\sushmita\\anaconda3\\lib\\site-packages (from pytrends) (2.32.3)\n",
      "Requirement already satisfied: lxml in c:\\users\\sushmita\\anaconda3\\lib\\site-packages (from pytrends) (5.2.1)\n",
      "Requirement already satisfied: contourpy>=1.0.1 in c:\\users\\sushmita\\anaconda3\\lib\\site-packages (from matplotlib) (1.2.0)\n",
      "Requirement already satisfied: cycler>=0.10 in c:\\users\\sushmita\\anaconda3\\lib\\site-packages (from matplotlib) (0.11.0)\n",
      "Requirement already satisfied: fonttools>=4.22.0 in c:\\users\\sushmita\\anaconda3\\lib\\site-packages (from matplotlib) (4.51.0)\n",
      "Requirement already satisfied: kiwisolver>=1.3.1 in c:\\users\\sushmita\\anaconda3\\lib\\site-packages (from matplotlib) (1.4.4)\n",
      "Requirement already satisfied: numpy>=1.23 in c:\\users\\sushmita\\anaconda3\\lib\\site-packages (from matplotlib) (1.26.4)\n",
      "Requirement already satisfied: packaging>=20.0 in c:\\users\\sushmita\\anaconda3\\lib\\site-packages (from matplotlib) (24.1)\n",
      "Requirement already satisfied: pillow>=8 in c:\\users\\sushmita\\anaconda3\\lib\\site-packages (from matplotlib) (10.4.0)\n",
      "Requirement already satisfied: pyparsing>=2.3.1 in c:\\users\\sushmita\\anaconda3\\lib\\site-packages (from matplotlib) (3.1.2)\n",
      "Requirement already satisfied: python-dateutil>=2.7 in c:\\users\\sushmita\\anaconda3\\lib\\site-packages (from matplotlib) (2.9.0.post0)\n",
      "Requirement already satisfied: pytz>=2020.1 in c:\\users\\sushmita\\anaconda3\\lib\\site-packages (from pandas) (2024.1)\n",
      "Requirement already satisfied: tzdata>=2022.7 in c:\\users\\sushmita\\anaconda3\\lib\\site-packages (from pandas) (2023.3)\n",
      "Requirement already satisfied: tenacity>=6.2.0 in c:\\users\\sushmita\\anaconda3\\lib\\site-packages (from plotly) (8.2.3)\n",
      "Requirement already satisfied: six>=1.5 in c:\\users\\sushmita\\anaconda3\\lib\\site-packages (from python-dateutil>=2.7->matplotlib) (1.16.0)\n",
      "Requirement already satisfied: charset-normalizer<4,>=2 in c:\\users\\sushmita\\anaconda3\\lib\\site-packages (from requests>=2.0->pytrends) (3.3.2)\n",
      "Requirement already satisfied: idna<4,>=2.5 in c:\\users\\sushmita\\anaconda3\\lib\\site-packages (from requests>=2.0->pytrends) (3.7)\n",
      "Requirement already satisfied: urllib3<3,>=1.21.1 in c:\\users\\sushmita\\anaconda3\\lib\\site-packages (from requests>=2.0->pytrends) (2.2.3)\n",
      "Requirement already satisfied: certifi>=2017.4.17 in c:\\users\\sushmita\\anaconda3\\lib\\site-packages (from requests>=2.0->pytrends) (2025.4.26)\n",
      "Note: you may need to restart the kernel to use updated packages.\n"
     ]
    }
   ],
   "source": [
    "pip install pytrends matplotlib pandas seaborn plotly"
   ]
  },
  {
   "cell_type": "code",
   "execution_count": 2,
   "id": "4de45290-00d4-423f-a5e3-db4cafb0e518",
   "metadata": {},
   "outputs": [],
   "source": [
    "import pandas as pd\n",
    "import matplotlib.pyplot as plt\n",
    "import seaborn as sns\n",
    "import plotly.express as px\n",
    "from pytrends.request import TrendReq"
   ]
  },
  {
   "cell_type": "markdown",
   "id": "86389c89-8ea9-4b3e-886a-15c2435a2cbf",
   "metadata": {},
   "source": [
    "# setting up the pytrend lib and keyword define"
   ]
  },
  {
   "cell_type": "code",
   "execution_count": 3,
   "id": "4a3e5206-0e80-4848-a10b-aacd778b2893",
   "metadata": {},
   "outputs": [],
   "source": [
    "# Now we can use the TrendReq class\n",
    "pytrends = TrendReq(hl='en-US', tz=360)  # choosing language as english and tz timezone as 360 \n",
    "keyword = \"cloud computing\"              #keword to be searched"
   ]
  },
  {
   "cell_type": "markdown",
   "id": "607086e2-4d42-47d1-aad3-6deba7749133",
   "metadata": {},
   "source": [
    "# Requesting Data "
   ]
  },
  {
   "cell_type": "code",
   "execution_count": 10,
   "id": "7cfe0936-df2f-4a02-9a90-efc29ddf7e6e",
   "metadata": {},
   "outputs": [],
   "source": [
    "pytrends.build_payload([keyword], cat=0, timeframe='today 12-m', geo='', gprop='')"
   ]
  },
  {
   "cell_type": "markdown",
   "id": "abd10b47-fca7-44d5-b06b-f68ee7b03585",
   "metadata": {},
   "source": [
    "# Country wise Intrest"
   ]
  },
  {
   "cell_type": "code",
   "execution_count": 9,
   "id": "c60a58d7-1779-4821-88f0-60b36d23ced6",
   "metadata": {},
   "outputs": [
    {
     "ename": "TooManyRequestsError",
     "evalue": "The request failed: Google returned a response with code 429",
     "output_type": "error",
     "traceback": [
      "\u001b[1;31m---------------------------------------------------------------------------\u001b[0m",
      "\u001b[1;31mTooManyRequestsError\u001b[0m                      Traceback (most recent call last)",
      "Cell \u001b[1;32mIn[9], line 6\u001b[0m\n\u001b[0;32m      4\u001b[0m time\u001b[38;5;241m.\u001b[39msleep(\u001b[38;5;241m10\u001b[39m)  \u001b[38;5;66;03m# Wait for 10 seconds before the request\u001b[39;00m\n\u001b[0;32m      5\u001b[0m \u001b[38;5;66;03m# Get interest by region\u001b[39;00m\n\u001b[1;32m----> 6\u001b[0m region_data \u001b[38;5;241m=\u001b[39m pytrends\u001b[38;5;241m.\u001b[39minterest_by_region()\n\u001b[0;32m      8\u001b[0m \u001b[38;5;66;03m# Sort data by the keyword and select the top 10 regions\u001b[39;00m\n\u001b[0;32m      9\u001b[0m region_data \u001b[38;5;241m=\u001b[39m region_data\u001b[38;5;241m.\u001b[39msort_values(by\u001b[38;5;241m=\u001b[39mkeyword, ascending\u001b[38;5;241m=\u001b[39m\u001b[38;5;28;01mFalse\u001b[39;00m)\u001b[38;5;241m.\u001b[39mhead(\u001b[38;5;241m10\u001b[39m)\n",
      "File \u001b[1;32m~\\anaconda3\\Lib\\site-packages\\pytrends\\request.py:340\u001b[0m, in \u001b[0;36mTrendReq.interest_by_region\u001b[1;34m(self, resolution, inc_low_vol, inc_geo_code)\u001b[0m\n\u001b[0;32m    337\u001b[0m region_payload[\u001b[38;5;124m'\u001b[39m\u001b[38;5;124mtz\u001b[39m\u001b[38;5;124m'\u001b[39m] \u001b[38;5;241m=\u001b[39m \u001b[38;5;28mself\u001b[39m\u001b[38;5;241m.\u001b[39mtz\n\u001b[0;32m    339\u001b[0m \u001b[38;5;66;03m# parse returned json\u001b[39;00m\n\u001b[1;32m--> 340\u001b[0m req_json \u001b[38;5;241m=\u001b[39m \u001b[38;5;28mself\u001b[39m\u001b[38;5;241m.\u001b[39m_get_data(\n\u001b[0;32m    341\u001b[0m     url\u001b[38;5;241m=\u001b[39mTrendReq\u001b[38;5;241m.\u001b[39mINTEREST_BY_REGION_URL,\n\u001b[0;32m    342\u001b[0m     method\u001b[38;5;241m=\u001b[39mTrendReq\u001b[38;5;241m.\u001b[39mGET_METHOD,\n\u001b[0;32m    343\u001b[0m     trim_chars\u001b[38;5;241m=\u001b[39m\u001b[38;5;241m5\u001b[39m,\n\u001b[0;32m    344\u001b[0m     params\u001b[38;5;241m=\u001b[39mregion_payload,\n\u001b[0;32m    345\u001b[0m )\n\u001b[0;32m    346\u001b[0m df \u001b[38;5;241m=\u001b[39m pd\u001b[38;5;241m.\u001b[39mDataFrame(req_json[\u001b[38;5;124m'\u001b[39m\u001b[38;5;124mdefault\u001b[39m\u001b[38;5;124m'\u001b[39m][\u001b[38;5;124m'\u001b[39m\u001b[38;5;124mgeoMapData\u001b[39m\u001b[38;5;124m'\u001b[39m])\n\u001b[0;32m    347\u001b[0m \u001b[38;5;28;01mif\u001b[39;00m (df\u001b[38;5;241m.\u001b[39mempty):\n",
      "File \u001b[1;32m~\\anaconda3\\Lib\\site-packages\\pytrends\\request.py:159\u001b[0m, in \u001b[0;36mTrendReq._get_data\u001b[1;34m(self, url, method, trim_chars, **kwargs)\u001b[0m\n\u001b[0;32m    157\u001b[0m \u001b[38;5;28;01melse\u001b[39;00m:\n\u001b[0;32m    158\u001b[0m     \u001b[38;5;28;01mif\u001b[39;00m response\u001b[38;5;241m.\u001b[39mstatus_code \u001b[38;5;241m==\u001b[39m status_codes\u001b[38;5;241m.\u001b[39mcodes\u001b[38;5;241m.\u001b[39mtoo_many_requests:\n\u001b[1;32m--> 159\u001b[0m         \u001b[38;5;28;01mraise\u001b[39;00m exceptions\u001b[38;5;241m.\u001b[39mTooManyRequestsError\u001b[38;5;241m.\u001b[39mfrom_response(response)\n\u001b[0;32m    160\u001b[0m     \u001b[38;5;28;01mraise\u001b[39;00m exceptions\u001b[38;5;241m.\u001b[39mResponseError\u001b[38;5;241m.\u001b[39mfrom_response(response)\n",
      "\u001b[1;31mTooManyRequestsError\u001b[0m: The request failed: Google returned a response with code 429"
     ]
    }
   ],
   "source": [
    "import time\n",
    "\n",
    "# Fetch regional interest with delay\n",
    "time.sleep(10)  # Wait for 10 seconds before the request\n",
    "# Get interest by region\n",
    "region_data = pytrends.interest_by_region()\n",
    "\n",
    "# Sort data by the keyword and select the top 10 regions\n",
    "region_data = region_data.sort_values(by=keyword, ascending=False).head(10)"
   ]
  },
  {
   "cell_type": "code",
   "execution_count": null,
   "id": "e9748bc0-6c0c-477e-aea4-c505e2756481",
   "metadata": {},
   "outputs": [],
   "source": [
    "plt.figure(figsize=(10, 6))\n",
    "\n",
    "# Generate the \"Reds\" palette and reverse it\n",
    "palette = sns.color_palette(\"Reds_d\", n_colors=len(region_data))[::-1]\n",
    "\n",
    "# Plot with the reversed palette\n",
    "sns.barplot(\n",
    "    x=region_data[keyword],  # Ensure keyword[0] matches the actual column name\n",
    "    y=region_data.index,\n",
    "    palette=palette,\n",
    ")\n",
    "\n",
    "# Add titles and labels\n",
    "plt.title(f\"Top 10 Countries Searching for '{keyword}'\")\n",
    "plt.xlabel(\"Interest\")\n",
    "plt.ylabel(\"Country\")\n",
    "plt.show()"
   ]
  },
  {
   "cell_type": "markdown",
   "id": "77343207-52fd-463b-93f9-4c7598204791",
   "metadata": {},
   "source": [
    "# word map where searching is maximum"
   ]
  },
  {
   "cell_type": "code",
   "execution_count": null,
   "id": "71fb6235-2850-4dfd-9ff9-84ae89285f97",
   "metadata": {},
   "outputs": [],
   "source": [
    "region_data = region_data.reset_index(drop=True)\n",
    "\n",
    "# Plotly choropleth map\n",
    "fig = px.choropleth(\n",
    "    region_data,\n",
    "    locations='geoName',  # Column with country names\n",
    "    locationmode='country names',\n",
    "    color=keyword,  # Ensure keyword matches the column name\n",
    "    title=f\"Search Interest For '{keyword}' by Country\",\n",
    "    color_continuous_scale=px.colors.sequential.Reds,  # Reverse the \"Reds\" color scale\n",
    "    width=1200,  # Adjust width\n",
    "    height=800  # Adjust height\n",
    ")\n",
    "\n",
    "fig.show()"
   ]
  },
  {
   "cell_type": "markdown",
   "id": "a6f8c185-e011-46fc-b1c2-89690cbf7f9a",
   "metadata": {},
   "source": [
    "Nepal has the highest number of people searching for this keyword compared to any other country.\n",
    "This shows that the topic is popular there.\n"
   ]
  },
  {
   "cell_type": "code",
   "execution_count": null,
   "id": "0a9e80a4-49e0-4b22-bdb1-42303769b84c",
   "metadata": {},
   "outputs": [],
   "source": [
    "time_df = pytrends.interest_over_time()"
   ]
  },
  {
   "cell_type": "code",
   "execution_count": null,
   "id": "53641f3f-b33f-4c58-89ca-1220e6e0e10f",
   "metadata": {},
   "outputs": [],
   "source": [
    "plt.figure(figsize(12,6))\n",
    "plt.plot(time_df.index,time_df[keyword],marker='o',color='purple')\n",
    "plt.title(f\"Search interest over time '{keyword}'\")\n",
    "plt.xlabel(\"Date\")\n",
    "plt.ylable(\"Interest\")\n",
    "plt.grid(True)\n",
    "plt.show()"
   ]
  },
  {
   "cell_type": "markdown",
   "id": "4768c82a-6839-406a-ab9b-99d38afef379",
   "metadata": {},
   "source": [
    "# Comparision of multiple keywords"
   ]
  },
  {
   "cell_type": "code",
   "execution_count": null,
   "id": "0c18a245-38d4-42ca-9759-3db3686c1833",
   "metadata": {},
   "outputs": [],
   "source": [
    "kw_list = [\"cloud computing\", \"data science\", \"machine Learning\",  \"Artificial Intelligence\"]\n",
    "pytrends.build_payload(kw_list, cat=0, timeframe='today 12-m', geo='',gprop='')"
   ]
  },
  {
   "cell_type": "code",
   "execution_count": null,
   "id": "95978c35-a45c-4fdb-8d36-1d210bec89d9",
   "metadata": {},
   "outputs": [],
   "source": [
    "compare_df =  pytrends.interest_over_time()\n",
    "plt.figure(figsize=(12,6))\n",
    "for kw in kw_list:\n",
    "    plt.plot(compare_df.index,compare_df[kw],label=kw)\n",
    "plt.title(f\"Keyword comparision over time '{keyword}'\")\n",
    "plt.xlabel(\"Date\")\n",
    "plt.ylable(\"Interest\")\n",
    "plt.legend()\n",
    "plt.grid(True)\n",
    "plt.tight_layout()\n",
    "plt.show()"
   ]
  },
  {
   "cell_type": "code",
   "execution_count": null,
   "id": "ff8d9e9b-6888-4b76-a2c9-33eb74edc7a8",
   "metadata": {},
   "outputs": [],
   "source": []
  },
  {
   "cell_type": "code",
   "execution_count": null,
   "id": "f760c3bc-5772-4b64-be80-c118c49b175c",
   "metadata": {},
   "outputs": [],
   "source": []
  }
 ],
 "metadata": {
  "kernelspec": {
   "display_name": "Python [conda env:base] *",
   "language": "python",
   "name": "conda-base-py"
  },
  "language_info": {
   "codemirror_mode": {
    "name": "ipython",
    "version": 3
   },
   "file_extension": ".py",
   "mimetype": "text/x-python",
   "name": "python",
   "nbconvert_exporter": "python",
   "pygments_lexer": "ipython3",
   "version": "3.12.7"
  }
 },
 "nbformat": 4,
 "nbformat_minor": 5
}
